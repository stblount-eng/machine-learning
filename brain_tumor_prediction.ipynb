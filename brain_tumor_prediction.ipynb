{
 "cells": [
  {
   "attachments": {},
   "cell_type": "markdown",
   "metadata": {},
   "source": [
    "# Protein-Based Machine Learning Model for Tumor Detection\n",
    "\n",
    "## Overview:\n",
    "\n",
    "The project aims to develop a machine learning model for tumor detection using protein data obtained from biopsy samples.\n",
    "The primary objective is to create a model that can accurately classify samples as tumor or non-tumor based on protein profiles.\n",
    "The focus is on leveraging machine learning techniques to analyze protein data and improve tumor detection accuracy.\n",
    "The project aims to verify the effectiveness of the model by evaluating its performance against existing diagnostic methods.\n",
    "\n",
    "### Project Steps:\n",
    "\n",
    "- Data Collection\n",
    "\n",
    "- Data Preprocessing\n",
    "\n",
    "- Model Development\n",
    "\n",
    "- Model Evaluation\n",
    "\n",
    "- Conclusion"
   ]
  },
  {
   "attachments": {},
   "cell_type": "markdown",
   "metadata": {},
   "source": [
    "## Data Collection\n",
    "\n",
    "The data used for this project is provided by Kaggle - see [dataset](https://www.kaggle.com/datasets/jillanisofttech/brain-tumor).\n"
   ]
  },
  {
   "attachments": {},
   "cell_type": "markdown",
   "metadata": {},
   "source": [
    "## Data Preprocessing\n",
    "\n",
    "The data I am using is fairly clean but we will still need to assess the data, clean it, and split for our training, validating and testing data. "
   ]
  },
  {
   "cell_type": "code",
   "execution_count": 2,
   "metadata": {},
   "outputs": [],
   "source": [
    "import pandas as pd\n",
    "\n",
    "# Read the file\n",
    "data = pd.read_csv('data\\\\brain_tumor_data.csv')"
   ]
  },
  {
   "attachments": {},
   "cell_type": "markdown",
   "metadata": {},
   "source": [
    "### Assess the data"
   ]
  },
  {
   "cell_type": "code",
   "execution_count": 3,
   "metadata": {},
   "outputs": [
    {
     "name": "stdout",
     "output_type": "stream",
     "text": [
      "   Unnamed: 0  X53416  M83670  X90908  M97496  X90908.1  U37019  R48602  \\\n",
      "0           0      70     -81      25      10        22     113      36   \n",
      "1           1     108     -30      -7      60         0      24       8   \n",
      "2           2      75      -1       5      48         6      34      27   \n",
      "3           3     871       4      14      78        -6      85      65   \n",
      "4           4     -92     -34      14      19        11      -6      27   \n",
      "\n",
      "   T96548  X64559  ...  H87456  R64130  H11125.1  U22055  L22524  M13699.1  \\\n",
      "0     163       9  ...      75       5        68     138      53        -4   \n",
      "1     113      -3  ...     186       6        60      93     140        -3   \n",
      "2      35      -1  ...     186     225        94      62      39       -14   \n",
      "3     227      19  ...      77       6        78      30      87        -4   \n",
      "4      -8       9  ...      87     303       204      81     105         9   \n",
      "\n",
      "   X54489  T55008  M10065.2      y  \n",
      "0     123       2        19  tumor  \n",
      "1     271      -1       -51  tumor  \n",
      "2     127       7       192  tumor  \n",
      "3      59       3       367  tumor  \n",
      "4     265      -2       126  tumor  \n",
      "\n",
      "[5 rows x 7466 columns]\n"
     ]
    }
   ],
   "source": [
    "print(data.head())"
   ]
  },
  {
   "attachments": {},
   "cell_type": "markdown",
   "metadata": {},
   "source": [
    "We can see the data consist of columns of proteins and the final column being our target which we will try to predict."
   ]
  },
  {
   "cell_type": "code",
   "execution_count": 4,
   "metadata": {},
   "outputs": [
    {
     "name": "stdout",
     "output_type": "stream",
     "text": [
      "(36, 7466)\n",
      "       Unnamed: 0       X53416      M83670       X90908       M97496  \\\n",
      "count   36.000000    36.000000   36.000000    36.000000    36.000000   \n",
      "mean    17.500000   378.750000  177.305556   128.027778   568.305556   \n",
      "std     10.535654   648.716067  243.494655   787.935802   637.451928   \n",
      "min      0.000000  -694.000000 -117.000000   -50.000000     8.000000   \n",
      "25%      8.750000   -95.750000  -31.000000   -13.250000    47.250000   \n",
      "50%     17.500000   194.500000  117.000000    -4.500000   293.500000   \n",
      "75%     26.250000   721.750000  330.500000    14.000000  1079.250000   \n",
      "max     35.000000  1815.000000  718.000000  4723.000000  2261.000000   \n",
      "\n",
      "          X90908.1       U37019      R48602       T96548      X64559  ...  \\\n",
      "count    36.000000    36.000000   36.000000    36.000000   36.000000  ...   \n",
      "mean     93.555556   366.833333  140.166667   644.194444   73.444444  ...   \n",
      "std     557.527370   427.166645  171.443202   685.514231   88.504219  ...   \n",
      "min     -54.000000    -6.000000  -18.000000    -8.000000   -8.000000  ...   \n",
      "25%      -7.000000    27.250000   17.750000    33.250000    8.250000  ...   \n",
      "50%       3.000000   110.500000   37.500000   333.500000   37.500000  ...   \n",
      "75%      10.250000   675.000000  268.500000  1185.250000  107.750000  ...   \n",
      "max    3344.000000  1354.000000  718.000000  2203.000000  357.000000  ...   \n",
      "\n",
      "           D14657      H87456      R64130     H11125.1      U22055  \\\n",
      "count   36.000000   36.000000   36.000000    36.000000   36.000000   \n",
      "mean    31.750000   71.111111   35.694444    53.194444   38.388889   \n",
      "std     50.036201  118.940748  127.437115   269.630628   47.619490   \n",
      "min    -21.000000  -24.000000  -12.000000 -1484.000000  -73.000000   \n",
      "25%      1.500000    9.000000   -1.250000    59.250000   12.750000   \n",
      "50%     10.000000   55.500000    3.000000    94.000000   36.000000   \n",
      "75%     48.000000   78.750000    6.000000   121.250000   64.000000   \n",
      "max    156.000000  686.000000  686.000000   251.000000  138.000000   \n",
      "\n",
      "           L22524     M13699.1      X54489       T55008     M10065.2  \n",
      "count   36.000000    36.000000   36.000000    36.000000    36.000000  \n",
      "mean    40.944444    41.222222   57.027778    58.694444    44.027778  \n",
      "std     83.763935   251.147778   71.322001   336.030766   224.891782  \n",
      "min    -16.000000   -23.000000   -5.000000   -17.000000  -214.000000  \n",
      "25%      3.500000    -4.750000    7.000000    -5.000000   -72.750000  \n",
      "50%      7.000000     0.000000   20.000000     1.500000   -12.000000  \n",
      "75%     39.500000     6.500000   98.250000     7.000000    74.250000  \n",
      "max    444.000000  1505.000000  271.000000  2018.000000  1089.000000  \n",
      "\n",
      "[8 rows x 7465 columns]\n"
     ]
    }
   ],
   "source": [
    "print(data.shape)  # Get the dimensions of the data (rows, columns)\n",
    "print(data.describe())  # Display information about the data, including column data types and missing values"
   ]
  },
  {
   "attachments": {},
   "cell_type": "markdown",
   "metadata": {},
   "source": [
    "Here we can see that there is only 36 samples which is rather low and may cause some issues when validating and testing.\n",
    "\n",
    "We can also see that the we have many feature columns.\n",
    "\n",
    "#### Cleaning\n",
    "\n",
    "I want to remove the number column and check what our target can be."
   ]
  },
  {
   "cell_type": "code",
   "execution_count": 5,
   "metadata": {},
   "outputs": [
    {
     "name": "stdout",
     "output_type": "stream",
     "text": [
      "['tumor' 'Normal']\n"
     ]
    }
   ],
   "source": [
    "clean_data = data.drop('Unnamed: 0', axis=1)\n",
    "# Check what y can be\n",
    "print(clean_data['y'].unique())"
   ]
  },
  {
   "attachments": {},
   "cell_type": "markdown",
   "metadata": {},
   "source": [
    "We want to map our y to 0 or 1 for Normal and tumor respectively so it is easier to work with."
   ]
  },
  {
   "cell_type": "code",
   "execution_count": 6,
   "metadata": {},
   "outputs": [],
   "source": [
    "clean_data['y'].replace(['tumor', 'Normal'], [1, 0], inplace=True)"
   ]
  },
  {
   "attachments": {},
   "cell_type": "markdown",
   "metadata": {},
   "source": [
    "As our dataset is so small I will use 'Leave-One-Out Cross-Validation' as it will give a less biased performance estimate which will hopefully be at less risk of chance. As such I will leave the data splitting for later.\n",
    "\n",
    "I now want to seperate the features and the target."
   ]
  },
  {
   "cell_type": "code",
   "execution_count": 7,
   "metadata": {},
   "outputs": [],
   "source": [
    "X = clean_data.drop('y', axis=1)\n",
    "y = clean_data['y']"
   ]
  },
  {
   "attachments": {},
   "cell_type": "markdown",
   "metadata": {},
   "source": [
    "## Model Development\n",
    "\n",
    "I am going to try 3 different models and assess their comparative performance, these models are:\n",
    "\n",
    "- Support Vector Machines\n",
    "- Random Forest\n",
    "- Neural Networks\n",
    "\n",
    "These have been selected as they are effective for the type of data we are using which has small but has many features.\n",
    "\n",
    "### Leave-One-Out Cross-Validation (LOOCV)\n",
    "\n",
    "I am going to start by creating function to perform our LOOCV which can be applied to each model."
   ]
  },
  {
   "cell_type": "code",
   "execution_count": 8,
   "metadata": {},
   "outputs": [],
   "source": [
    "from sklearn.model_selection import LeaveOneOut\n",
    "\n",
    "# Create the cross-validator\n",
    "loo = LeaveOneOut()\n",
    "\n",
    "# Testing function\n",
    "def model_tester(X, y, model):\n",
    "    # Initialize lists to store predictions and true value\n",
    "    predictions = []\n",
    "    true_values = []\n",
    "\n",
    "    # LOOCV\n",
    "    for train_index, val_index in loo.split(X):\n",
    "        X_train, X_val = X.iloc[train_index], X.iloc[val_index]\n",
    "        y_train, y_val = y.iloc[train_index], y.iloc[val_index]\n",
    "        \n",
    "        # Train the model on the training set\n",
    "        model.fit(X_train, y_train)\n",
    "        \n",
    "        # Make predictions on the validation set\n",
    "        y_pred = model.predict(X_val)\n",
    "        \n",
    "        # Append predictions and true labels to the lists\n",
    "        predictions.append(y_pred[0])\n",
    "        true_values.append(y_val.values[0])\n",
    "    \n",
    "    bad_predict = []\n",
    "    for i, pred in enumerate(predictions):\n",
    "        if pred != true_values[i]:\n",
    "            bad_predict.append(i)\n",
    "            \n",
    "    print(bad_predict)\n",
    "            \n",
    "            \n",
    "    # Calculate accuracy - 1 perfect, 0 awful\n",
    "    return sum(1 for pred, true in zip(predictions, true_values) if pred == true) / len(true_values)"
   ]
  },
  {
   "attachments": {},
   "cell_type": "markdown",
   "metadata": {},
   "source": [
    "### Support Vector Machines\n",
    "\n",
    "Support Vector Machines (SVM) is a machine learning algorithm that seeks to find an optimal hyperplane in a high-dimensional space to separate data points into different classes, maximizing the margin between the classes and leveraging kernel functions to handle non-linear relationships.\n",
    "\n",
    "I will start with the basic model provided by scikit-learn and see how the default hyperparameters perform."
   ]
  },
  {
   "cell_type": "code",
   "execution_count": 9,
   "metadata": {},
   "outputs": [
    {
     "name": "stdout",
     "output_type": "stream",
     "text": [
      "[23]\n",
      "0.9722222222222222\n"
     ]
    }
   ],
   "source": [
    "from sklearn.svm import SVC\n",
    "\n",
    "# Create an SVM classifier\n",
    "svm_model = SVC()\n",
    "\n",
    "# Train and test the model using the function from before\n",
    "svm_accuracy = model_tester(X, y, svm_model)\n",
    "\n",
    "print(svm_accuracy)"
   ]
  },
  {
   "attachments": {},
   "cell_type": "markdown",
   "metadata": {},
   "source": [
    "An accuracy of 97% is pretty good but I will experiment with the hyperparameters to see if we can get 100%.\n",
    "\n",
    "Let's start with the kernel:"
   ]
  },
  {
   "cell_type": "code",
   "execution_count": 10,
   "metadata": {},
   "outputs": [
    {
     "name": "stdout",
     "output_type": "stream",
     "text": [
      "[23]\n",
      "Kernel: linear\n",
      "Accuracy: 0.9722222222222222\n",
      "\n",
      "[23]\n",
      "Kernel: poly\n",
      "Accuracy: 0.9722222222222222\n",
      "\n",
      "[23]\n",
      "Kernel: sigmoid\n",
      "Accuracy: 0.9722222222222222\n",
      "\n"
     ]
    }
   ],
   "source": [
    "kernel_list = ['linear', 'poly', 'sigmoid']\n",
    "\n",
    "for kernel_type in kernel_list:\n",
    "    svm_model = SVC(kernel=kernel_type)\n",
    "    svm_accuracy = model_tester(X, y, svm_model)\n",
    "    print(f'Kernel: {kernel_type}\\nAccuracy: {svm_accuracy}\\n')"
   ]
  },
  {
   "attachments": {},
   "cell_type": "markdown",
   "metadata": {},
   "source": [
    "Interestingly they all achieve the same accuracy which might suggest any of the options are at the limit of what the model can predict and that the defaults from sci-kit learn are very effective."
   ]
  },
  {
   "cell_type": "code",
   "execution_count": 11,
   "metadata": {},
   "outputs": [
    {
     "name": "stdout",
     "output_type": "stream",
     "text": [
      "[0, 1, 2, 3, 4, 5, 6, 7, 8, 9, 10, 11, 12, 13, 14, 15, 16, 17, 18, 19, 20, 21, 22, 23, 24, 25, 26, 27, 28, 29, 30, 31, 32, 33, 34, 35]\n",
      "[23]\n",
      "[23]\n",
      "[23, 26]\n",
      "[23, 25, 26, 34]\n",
      "[23, 25, 26, 34]\n",
      "[23, 25, 26, 34]\n",
      "[23, 24, 25, 26, 29, 31, 33, 34]\n",
      "[23, 24, 25, 26, 29, 31, 32, 33, 34]\n",
      "[23, 24, 25, 26, 29, 31, 32, 33, 34]\n"
     ]
    },
    {
     "data": {
      "image/png": "[encoded data removed]",
      "text/plain": [
       "<Figure size 640x480 with 1 Axes>"
      ]
     },
     "metadata": {},
     "output_type": "display_data"
    },
    {
     "name": "stdout",
     "output_type": "stream",
     "text": [
      "0.9722222222222222\n"
     ]
    }
   ],
   "source": [
    "# Gamma\n",
    "import matplotlib.pyplot as plt\n",
    "\n",
    "# gamma_list = [0.05, 0.1, 0.2, 0.3, 0.4, 0.5, 1, 1.5, 2]\n",
    "# gamma_list = [0.0000000001]\n",
    "gamma_list = [x/100000000000 for x in range(1, 10001, 1000)]\n",
    "accuracy = []\n",
    "i = 1\n",
    "\n",
    "for gamma_val in gamma_list:\n",
    "    svm_model = SVC(gamma=gamma_val)\n",
    "    accuracy.append(model_tester(X, y, svm_model))\n",
    "    plt.plot(gamma_list[:i], accuracy)\n",
    "    i += 1\n",
    "\n",
    "plt.show()\n",
    "print(max(accuracy))"
   ]
  },
  {
   "attachments": {},
   "cell_type": "markdown",
   "metadata": {},
   "source": [
    "We can see that there is a clear clear peak in accuracy and as gamma continues to increase the accuracy drops off.\n",
    "\n",
    "By default gamma is 'scale' which uses 1 / (n_features * X.var()) as value of gamma which appears to be very effective and is the max I found in testing.\n",
    "\n",
    "Let's move onto Random Forest\n",
    "\n",
    "## Random Forest"
   ]
  },
  {
   "cell_type": "code",
   "execution_count": 12,
   "metadata": {},
   "outputs": [
    {
     "name": "stdout",
     "output_type": "stream",
     "text": [
      "[23]\n",
      "0.9722222222222222\n"
     ]
    }
   ],
   "source": [
    "from sklearn.ensemble import RandomForestClassifier\n",
    "\n",
    "rf_model = RandomForestClassifier()\n",
    "\n",
    "rf_accuracy = model_tester(X, y, rf_model)\n",
    "print(rf_accuracy)"
   ]
  },
  {
   "attachments": {},
   "cell_type": "markdown",
   "metadata": {},
   "source": [
    "Let's see if we can get the final prediction.\n",
    "\n",
    "### n_estimators\n",
    "\n",
    "We'll start with n_estimators."
   ]
  },
  {
   "cell_type": "code",
   "execution_count": 13,
   "metadata": {},
   "outputs": [
    {
     "name": "stdout",
     "output_type": "stream",
     "text": [
      "[23]\n",
      "[23]\n",
      "[23]\n",
      "[23]\n",
      "[23]\n",
      "[23]\n",
      "[23]\n",
      "[23]\n",
      "[23]\n"
     ]
    },
    {
     "data": {
      "image/png": "[encoded data removed]",
      "text/plain": [
       "<Figure size 640x480 with 1 Axes>"
      ]
     },
     "metadata": {},
     "output_type": "display_data"
    },
    {
     "name": "stdout",
     "output_type": "stream",
     "text": [
      "0.9722222222222222\n"
     ]
    }
   ],
   "source": [
    "n_est_list = [x for x in range(50, 500, 50)]\n",
    "accuracy = []\n",
    "i = 1\n",
    "\n",
    "for n_est in n_est_list:\n",
    "    rf_model = RandomForestClassifier(n_estimators=n_est)\n",
    "    accuracy.append(model_tester(X, y, rf_model))\n",
    "    plt.plot(n_est_list[:i], accuracy)\n",
    "    i += 1\n",
    "\n",
    "plt.show()\n",
    "print(max(accuracy))"
   ]
  },
  {
   "attachments": {},
   "cell_type": "markdown",
   "metadata": {},
   "source": [
    "It seems to make no measurable difference so let's try 'max_depth' and the larger number of estimators are taking a large amount of time (1 minutes to 10 minutes).\n",
    "\n",
    "### max_depth\n",
    "\n",
    "A reasonable range for this is between 3 and 100 but in our case with a small dataset so we will keep to less than 20."
   ]
  },
  {
   "cell_type": "code",
   "execution_count": 14,
   "metadata": {},
   "outputs": [
    {
     "name": "stdout",
     "output_type": "stream",
     "text": [
      "[23]\n",
      "[23]\n",
      "[23]\n",
      "[23]\n",
      "[23]\n",
      "[23]\n"
     ]
    },
    {
     "data": {
      "image/png": "[encoded data removed]",
      "text/plain": [
       "<Figure size 640x480 with 1 Axes>"
      ]
     },
     "metadata": {},
     "output_type": "display_data"
    },
    {
     "name": "stdout",
     "output_type": "stream",
     "text": [
      "0.9722222222222222\n"
     ]
    }
   ],
   "source": [
    "depth_list = [x for x in range(3, 20, 3)]\n",
    "accuracy = []\n",
    "i = 1\n",
    "\n",
    "for depth in depth_list:\n",
    "    rf_model = RandomForestClassifier(max_depth=depth, random_state=8)\n",
    "    accuracy.append(model_tester(X, y, rf_model))\n",
    "    plt.plot(depth_list[:i], accuracy)\n",
    "    i += 1\n",
    "\n",
    "plt.show()\n",
    "print(max(accuracy))"
   ]
  },
  {
   "attachments": {},
   "cell_type": "markdown",
   "metadata": {},
   "source": [
    "This appears to have no affect on the accuracy of the model.\n",
    "\n",
    "I think we can move on to Neural Networks.\n",
    "\n",
    "## Neural Networks\n",
    "\n",
    "For a NN we need to standardise the training data, I am going to use a StandardScaler in scikit-learn."
   ]
  },
  {
   "cell_type": "code",
   "execution_count": 15,
   "metadata": {},
   "outputs": [],
   "source": [
    "from sklearn.preprocessing import StandardScaler\n",
    "\n",
    "scaler = StandardScaler()\n",
    "X_scaled = scaler.fit_transform(X)"
   ]
  },
  {
   "attachments": {},
   "cell_type": "markdown",
   "metadata": {},
   "source": [
    "Now we can go ahead a make the model. We are going to use dense layers so they are fully connected and the Adam optimiser as it's a great all round choice. We are also going to use the 'binary_crossentropy' loss function as it is good for binary classification and works with the signmoid activation layer."
   ]
  },
  {
   "cell_type": "code",
   "execution_count": 54,
   "metadata": {},
   "outputs": [],
   "source": [
    "import tensorflow as tf\n",
    "from tensorflow.keras.models import Sequential\n",
    "from tensorflow.keras.layers import Dense\n",
    "from tensorflow.keras.optimizers import Adam\n",
    "from tensorflow.keras.metrics import Accuracy\n",
    "\n",
    "\n",
    "tf.random.set_seed(42)\n",
    "\n",
    "nn_model = Sequential()\n",
    "nn_model.add(Dense(64, activation='relu', input_dim=X_scaled.shape[1]))\n",
    "nn_model.add(Dense(32, activation='relu'))\n",
    "nn_model.add(Dense(1, activation='sigmoid'))\n",
    "\n",
    "nn_model.compile(optimizer=Adam(learning_rate=0.001), loss='binary_crossentropy', metrics=[Accuracy()])"
   ]
  },
  {
   "attachments": {},
   "cell_type": "markdown",
   "metadata": {},
   "source": [
    "And now test the accuracy of the model with the initial hyperparameters.\n",
    "\n",
    "Unfortunately the function I was using before for training and testing won't work as we need to specify some of the hyperparameter in the fit function. We will focus on 2 hyper parameters: epochs and batch_size."
   ]
  },
  {
   "cell_type": "code",
   "execution_count": 55,
   "metadata": {},
   "outputs": [],
   "source": [
    "def model_tester_nn(X, y, model, epochs, batch_size):\n",
    "    \n",
    "    # Initialize lists to store predictions and true value\n",
    "    accuracies = []\n",
    "    \n",
    "    loo = LeaveOneOut()\n",
    "\n",
    "    # LOOCV\n",
    "    for train_index, val_index in loo.split(X):\n",
    "        X_train, X_val = X_scaled[train_index], X_scaled[val_index]\n",
    "        y_train, y_val = y.iloc[train_index], y.iloc[val_index]\n",
    "        \n",
    "        # Train the model on the training set\n",
    "        model.fit(X_train, y_train, epochs=epochs, batch_size=batch_size, verbose=0)\n",
    "        \n",
    "        # Make predictions on the validation set\n",
    "        _, accuracy = model.evaluate(X_val, y_val, verbose=0)\n",
    "        \n",
    "        # Append predictions and true labels to the lists\n",
    "        accuracies.append(accuracy)\n",
    "            \n",
    "            \n",
    "    # Calculate accuracy - 1 perfect, 0 awful\n",
    "    return sum(accuracies) / len(accuracies)"
   ]
  },
  {
   "attachments": {},
   "cell_type": "markdown",
   "metadata": {},
   "source": [
    "Now test."
   ]
  },
  {
   "cell_type": "code",
   "execution_count": 56,
   "metadata": {},
   "outputs": [
    {
     "name": "stdout",
     "output_type": "stream",
     "text": [
      "0.19444444444444445\n"
     ]
    }
   ],
   "source": [
    "print(model_tester_nn(X_scaled, y, nn_model, 10, 32))"
   ]
  },
  {
   "attachments": {},
   "cell_type": "markdown",
   "metadata": {},
   "source": [
    "Now let's try vary the hyper parameters starting with epochs which for a dataset of this size should roughly be between 10 and 50."
   ]
  },
  {
   "cell_type": "code",
   "execution_count": 57,
   "metadata": {},
   "outputs": [
    {
     "data": {
      "image/png": "[encoded data removed]",
      "text/plain": [
       "<Figure size 640x480 with 1 Axes>"
      ]
     },
     "metadata": {},
     "output_type": "display_data"
    },
    {
     "name": "stdout",
     "output_type": "stream",
     "text": [
      "0.4166666666666667\n"
     ]
    }
   ],
   "source": [
    "epoch_list = [x for x in range(10, 100, 10)]\n",
    "\n",
    "accuracy = []\n",
    "i = 1\n",
    "\n",
    "\n",
    "\n",
    "for epochs in epoch_list:\n",
    "    nn_model = Sequential()\n",
    "    nn_model.add(Dense(64, activation='relu', input_dim=X_scaled.shape[1]))\n",
    "    nn_model.add(Dense(32, activation='relu'))\n",
    "    nn_model.add(Dense(1, activation='sigmoid'))\n",
    "    nn_model.compile(optimizer=Adam(learning_rate=0.001), loss='binary_crossentropy', metrics=[Accuracy()])\n",
    "    accuracy.append(model_tester_nn(X, y, nn_model, epochs, 32))\n",
    "    plt.plot(epoch_list[:i], accuracy)\n",
    "    i += 1\n",
    "\n",
    "plt.show()\n",
    "print(max(accuracy))"
   ]
  },
  {
   "attachments": {},
   "cell_type": "markdown",
   "metadata": {},
   "source": [
    "The change in accuracy appears to be very random which is not a good sign for the model which suggests any correct predictions are more random than accurate.\n",
    "\n",
    "I'm going to try change the batch size to see if this can give any more consistent results."
   ]
  },
  {
   "cell_type": "code",
   "execution_count": 58,
   "metadata": {},
   "outputs": [
    {
     "data": {
      "image/png": "[encoded data removed]",
      "text/plain": [
       "<Figure size 640x480 with 1 Axes>"
      ]
     },
     "metadata": {},
     "output_type": "display_data"
    },
    {
     "name": "stdout",
     "output_type": "stream",
     "text": [
      "0.3888888888888889\n"
     ]
    }
   ],
   "source": [
    "batch_list = [x for x in range(8, 40, 8)]\n",
    "\n",
    "accuracy = []\n",
    "i = 1\n",
    "\n",
    "\n",
    "\n",
    "for batch in batch_list:\n",
    "    nn_model = Sequential()\n",
    "    nn_model.add(Dense(64, activation='relu', input_dim=X_scaled.shape[1]))\n",
    "    nn_model.add(Dense(32, activation='relu'))\n",
    "    nn_model.add(Dense(1, activation='sigmoid'))\n",
    "    nn_model.compile(optimizer=Adam(learning_rate=0.001), loss='binary_crossentropy', metrics=[Accuracy()])\n",
    "    accuracy.append(model_tester_nn(X, y, nn_model, 20, batch))\n",
    "    plt.plot(batch_list[:i], accuracy)\n",
    "    i += 1\n",
    "\n",
    "plt.show()\n",
    "print(max(accuracy))"
   ]
  },
  {
   "attachments": {},
   "cell_type": "markdown",
   "metadata": {},
   "source": [
    "Again, we can see no clear pattern and a seemingly random outcome from this range of batch sizes.\n",
    "\n",
    "I will not try varying the optimiser learning rate to see if we can gain any accuracy."
   ]
  },
  {
   "cell_type": "code",
   "execution_count": 59,
   "metadata": {},
   "outputs": [
    {
     "data": {
      "image/png": "[encoded data removed]",
      "text/plain": [
       "<Figure size 640x480 with 1 Axes>"
      ]
     },
     "metadata": {},
     "output_type": "display_data"
    },
    {
     "name": "stdout",
     "output_type": "stream",
     "text": [
      "1.0\n"
     ]
    }
   ],
   "source": [
    "learning_list = [1, 0.1, 0.05, 0.01, 0.005, 0.001]\n",
    "\n",
    "accuracy = []\n",
    "i = 1\n",
    "\n",
    "\n",
    "\n",
    "for learn_rate in learning_list:\n",
    "    nn_model = Sequential()\n",
    "    nn_model.add(Dense(64, activation='relu', input_dim=X_scaled.shape[1]))\n",
    "    nn_model.add(Dense(32, activation='relu'))\n",
    "    nn_model.add(Dense(1, activation='sigmoid'))\n",
    "    nn_model.compile(optimizer=Adam(learning_rate=learn_rate), loss='binary_crossentropy', metrics=[Accuracy()])\n",
    "    accuracy.append(model_tester_nn(X, y, nn_model, 20, 8))\n",
    "    plt.plot(learning_list[:i], accuracy)\n",
    "    i += 1\n",
    "\n",
    "plt.show()\n",
    "print(max(accuracy))"
   ]
  },
  {
   "attachments": {},
   "cell_type": "markdown",
   "metadata": {},
   "source": [
    "Finally, the learning rate has made a huge difference in the accuracy and achieved 100% accuracy.\n",
    "\n",
    "It's likely the learning rate was too slow for this small data set so was unable to converge although which may explain the seemingly random accuracy of the previous experimentation.\n",
    "\n",
    "## Conclusion\n",
    "\n",
    "Both the Support Vector Machines and Random Forest models gave very accurate consistent predictions with minimal adjustment to hyper parameters which suggests they are a good model for this problem. However, Neural Networks ultimately achieved the highest accuracy but required siginificantly more tuning.\n",
    "\n",
    "Ultimately, this dataset is rather small and doesn't allow the full testing of the models. It would be very interesting to see the performance of these models on a larger dataset."
   ]
  }
 ],
 "metadata": {
  "kernelspec": {
   "display_name": ".venv",
   "language": "python",
   "name": "python3"
  },
  "language_info": {
   "codemirror_mode": {
    "name": "ipython",
    "version": 3
   },
   "file_extension": ".py",
   "mimetype": "text/x-python",
   "name": "python",
   "nbconvert_exporter": "python",
   "pygments_lexer": "ipython3",
   "version": "3.10.11"
  },
  "orig_nbformat": 4
 },
 "nbformat": 4,
 "nbformat_minor": 2
}
